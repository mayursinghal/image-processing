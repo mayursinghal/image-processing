{
 "cells": [
  {
   "cell_type": "code",
   "execution_count": null,
   "metadata": {},
   "outputs": [],
   "source": [
    "import cv2\n",
    "import numpy as np\n",
    "#  create black box\n",
    "image =np.zeros((512,512,3),np.uint8)\n",
    "#image_bw=np.zeros((512,512),np.uint8)\n",
    "#cv2.imshow('image(color)',image)\n",
    "#cv2.imshow('image(b&w)',image_bw)\n",
    "#cv2.circle(image,(30,300),100,(255,127,5),-1)\n",
    "cv2.putText(image,'hello world',(75,290),cv2.FONT_HERSHEY_COMPLEX,1,(100,170,3),3)\n",
    "cv2.imshow('blue line',image)\n",
    "cv2.waitKey(0)\n",
    "cv2.destroyAllWindows()"
   ]
  },
  {
   "cell_type": "raw",
   "metadata": {},
   "source": []
  }
 ],
 "metadata": {
  "kernelspec": {
   "display_name": "Python 2",
   "language": "python",
   "name": "python2"
  }
 },
 "nbformat": 4,
 "nbformat_minor": 2
}
