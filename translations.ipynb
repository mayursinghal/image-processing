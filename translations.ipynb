{
 "cells": [
  {
   "cell_type": "code",
   "execution_count": null,
   "metadata": {
    "collapsed": true
   },
   "outputs": [],
   "source": [
    "import cv2\n"
   ]
  },
  {
   "cell_type": "code",
   "execution_count": null,
   "metadata": {
    "scrolled": false
   },
   "outputs": [],
   "source": [
    "import numpy as np\n",
    "image=cv2.imread('/home/atom/MasteringComputerVision_V1.01/images/beatle.jpg')\n",
    "#store heigth and width\n",
    "height,width=image.shape[:2]\n",
    "quater_height,quater_width=height/4,width/4\n",
    "#translation\n",
    "T=np.float32([[1,0,quater_width],[1,0,quater_height]])\n",
    "#use warpAffine function to transform the image\n",
    "img_translation=cv2.warpAffine(image,T,(width,height))\n",
    "cv2.imshow('translation',img_translation)\n",
    "cv2.waitKey()\n",
    "cv2.destroyAllWindows()"
   ]
  }
 ],
 "metadata": {
  "kernelspec": {
   "display_name": "Python 2",
   "language": "python",
   "name": "python2"
  },
  "language_info": {
   "codemirror_mode": {
    "name": "ipython",
    "version": 2
   },
   "file_extension": ".py",
   "mimetype": "text/x-python",
   "name": "python",
   "nbconvert_exporter": "python",
   "pygments_lexer": "ipython2",
   "version": "2.7.14"
  }
 },
 "nbformat": 4,
 "nbformat_minor": 2
}
